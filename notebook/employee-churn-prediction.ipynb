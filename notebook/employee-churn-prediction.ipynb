{
 "cells": [
  {
   "cell_type": "code",
   "execution_count": 5,
   "metadata": {
    "execution": {
     "iopub.execute_input": "2023-10-04T06:00:50.615884Z",
     "iopub.status.busy": "2023-10-04T06:00:50.615453Z",
     "iopub.status.idle": "2023-10-04T06:00:50.622481Z",
     "shell.execute_reply": "2023-10-04T06:00:50.621309Z",
     "shell.execute_reply.started": "2023-10-04T06:00:50.615840Z"
    }
   },
   "outputs": [],
   "source": [
    "import numpy as np\n",
    "import pandas as pd\n",
    "import seaborn as sns\n",
    "import matplotlib.pyplot as plt\n",
    "\n",
    "from sklearn.preprocessing import MinMaxScaler\n",
    "from sklearn.preprocessing import OneHotEncoder\n",
    "from sklearn.model_selection import train_test_split\n",
    "\n",
    "# ML\n",
    "from sklearn.linear_model import LogisticRegression\n",
    "from sklearn.svm import SVC\n",
    "from sklearn.tree import DecisionTreeClassifier\n",
    "from sklearn.ensemble import RandomForestClassifier\n",
    "from xgboost import XGBClassifier\n",
    "\n",
    "# Metrics\n",
    "from sklearn.metrics import accuracy_score, classification_report, confusion_matrix\n",
    "from sklearn.metrics import roc_curve, roc_auc_score\n",
    "\n",
    "import warnings\n",
    "warnings.filterwarnings('ignore')"
   ]
  },
  {
   "cell_type": "code",
   "execution_count": 4,
   "metadata": {
    "execution": {
     "iopub.execute_input": "2023-10-04T05:47:54.619245Z",
     "iopub.status.busy": "2023-10-04T05:47:54.618607Z",
     "iopub.status.idle": "2023-10-04T05:47:54.644252Z",
     "shell.execute_reply": "2023-10-04T05:47:54.642347Z",
     "shell.execute_reply.started": "2023-10-04T05:47:54.619214Z"
    }
   },
   "outputs": [
    {
     "name": "stdout",
     "output_type": "stream",
     "text": [
      "(4653, 9)\n"
     ]
    },
    {
     "data": {
      "text/html": [
       "<div>\n",
       "<style scoped>\n",
       "    .dataframe tbody tr th:only-of-type {\n",
       "        vertical-align: middle;\n",
       "    }\n",
       "\n",
       "    .dataframe tbody tr th {\n",
       "        vertical-align: top;\n",
       "    }\n",
       "\n",
       "    .dataframe thead th {\n",
       "        text-align: right;\n",
       "    }\n",
       "</style>\n",
       "<table border=\"1\" class=\"dataframe\">\n",
       "  <thead>\n",
       "    <tr style=\"text-align: right;\">\n",
       "      <th></th>\n",
       "      <th>Education</th>\n",
       "      <th>JoiningYear</th>\n",
       "      <th>City</th>\n",
       "      <th>PaymentTier</th>\n",
       "      <th>Age</th>\n",
       "      <th>Gender</th>\n",
       "      <th>EverBenched</th>\n",
       "      <th>ExperienceInCurrentDomain</th>\n",
       "      <th>LeaveOrNot</th>\n",
       "    </tr>\n",
       "  </thead>\n",
       "  <tbody>\n",
       "    <tr>\n",
       "      <th>0</th>\n",
       "      <td>Bachelors</td>\n",
       "      <td>2017</td>\n",
       "      <td>Bangalore</td>\n",
       "      <td>3</td>\n",
       "      <td>34</td>\n",
       "      <td>Male</td>\n",
       "      <td>No</td>\n",
       "      <td>0</td>\n",
       "      <td>0</td>\n",
       "    </tr>\n",
       "    <tr>\n",
       "      <th>1</th>\n",
       "      <td>Bachelors</td>\n",
       "      <td>2013</td>\n",
       "      <td>Pune</td>\n",
       "      <td>1</td>\n",
       "      <td>28</td>\n",
       "      <td>Female</td>\n",
       "      <td>No</td>\n",
       "      <td>3</td>\n",
       "      <td>1</td>\n",
       "    </tr>\n",
       "    <tr>\n",
       "      <th>2</th>\n",
       "      <td>Bachelors</td>\n",
       "      <td>2014</td>\n",
       "      <td>New Delhi</td>\n",
       "      <td>3</td>\n",
       "      <td>38</td>\n",
       "      <td>Female</td>\n",
       "      <td>No</td>\n",
       "      <td>2</td>\n",
       "      <td>0</td>\n",
       "    </tr>\n",
       "    <tr>\n",
       "      <th>3</th>\n",
       "      <td>Masters</td>\n",
       "      <td>2016</td>\n",
       "      <td>Bangalore</td>\n",
       "      <td>3</td>\n",
       "      <td>27</td>\n",
       "      <td>Male</td>\n",
       "      <td>No</td>\n",
       "      <td>5</td>\n",
       "      <td>1</td>\n",
       "    </tr>\n",
       "    <tr>\n",
       "      <th>4</th>\n",
       "      <td>Masters</td>\n",
       "      <td>2017</td>\n",
       "      <td>Pune</td>\n",
       "      <td>3</td>\n",
       "      <td>24</td>\n",
       "      <td>Male</td>\n",
       "      <td>Yes</td>\n",
       "      <td>2</td>\n",
       "      <td>1</td>\n",
       "    </tr>\n",
       "  </tbody>\n",
       "</table>\n",
       "</div>"
      ],
      "text/plain": [
       "   Education  JoiningYear       City  PaymentTier  Age  Gender EverBenched  \\\n",
       "0  Bachelors         2017  Bangalore            3   34    Male          No   \n",
       "1  Bachelors         2013       Pune            1   28  Female          No   \n",
       "2  Bachelors         2014  New Delhi            3   38  Female          No   \n",
       "3    Masters         2016  Bangalore            3   27    Male          No   \n",
       "4    Masters         2017       Pune            3   24    Male         Yes   \n",
       "\n",
       "   ExperienceInCurrentDomain  LeaveOrNot  \n",
       "0                          0           0  \n",
       "1                          3           1  \n",
       "2                          2           0  \n",
       "3                          5           1  \n",
       "4                          2           1  "
      ]
     },
     "execution_count": 4,
     "metadata": {},
     "output_type": "execute_result"
    }
   ],
   "source": [
    "df = pd.read_csv(\"data/Employee.csv\")\n",
    "print(df.shape)\n",
    "df.head()"
   ]
  },
  {
   "cell_type": "code",
   "execution_count": 5,
   "metadata": {
    "execution": {
     "iopub.execute_input": "2023-10-04T05:48:06.965527Z",
     "iopub.status.busy": "2023-10-04T05:48:06.965082Z",
     "iopub.status.idle": "2023-10-04T05:48:06.975918Z",
     "shell.execute_reply": "2023-10-04T05:48:06.974731Z",
     "shell.execute_reply.started": "2023-10-04T05:48:06.965486Z"
    }
   },
   "outputs": [
    {
     "data": {
      "text/plain": [
       "Education                    0\n",
       "JoiningYear                  0\n",
       "City                         0\n",
       "PaymentTier                  0\n",
       "Age                          0\n",
       "Gender                       0\n",
       "EverBenched                  0\n",
       "ExperienceInCurrentDomain    0\n",
       "LeaveOrNot                   0\n",
       "dtype: int64"
      ]
     },
     "execution_count": 5,
     "metadata": {},
     "output_type": "execute_result"
    }
   ],
   "source": [
    "# Checking null values\n",
    "df.isna().sum()"
   ]
  },
  {
   "cell_type": "code",
   "execution_count": 6,
   "metadata": {
    "execution": {
     "iopub.execute_input": "2023-10-04T05:54:46.807409Z",
     "iopub.status.busy": "2023-10-04T05:54:46.807021Z",
     "iopub.status.idle": "2023-10-04T05:54:46.814091Z",
     "shell.execute_reply": "2023-10-04T05:54:46.812703Z",
     "shell.execute_reply.started": "2023-10-04T05:54:46.807378Z"
    }
   },
   "outputs": [],
   "source": [
    "y = df.LeaveOrNot\n",
    "x = df.drop(['LeaveOrNot'], axis = 1)"
   ]
  },
  {
   "cell_type": "code",
   "execution_count": 7,
   "metadata": {
    "execution": {
     "iopub.execute_input": "2023-10-04T06:59:43.864109Z",
     "iopub.status.busy": "2023-10-04T06:59:43.863749Z",
     "iopub.status.idle": "2023-10-04T06:59:44.084183Z",
     "shell.execute_reply": "2023-10-04T06:59:44.082751Z",
     "shell.execute_reply.started": "2023-10-04T06:59:43.864083Z"
    }
   },
   "outputs": [
    {
     "data": {
      "text/plain": [
       "<AxesSubplot:xlabel='Education', ylabel='count'>"
      ]
     },
     "execution_count": 7,
     "metadata": {},
     "output_type": "execute_result"
    },
    {
     "data": {
      "image/png": "[encoded data removed]",
      "text/plain": [
       "<Figure size 432x288 with 1 Axes>"
      ]
     },
     "metadata": {
      "needs_background": "light"
     },
     "output_type": "display_data"
    }
   ],
   "source": [
    "sns.countplot(x=df[\"Education\"])"
   ]
  },
  {
   "cell_type": "code",
   "execution_count": 9,
   "metadata": {
    "execution": {
     "iopub.execute_input": "2023-10-04T07:09:27.016347Z",
     "iopub.status.busy": "2023-10-04T07:09:27.015995Z",
     "iopub.status.idle": "2023-10-04T07:09:27.299842Z",
     "shell.execute_reply": "2023-10-04T07:09:27.298628Z",
     "shell.execute_reply.started": "2023-10-04T07:09:27.016321Z"
    }
   },
   "outputs": [
    {
     "data": {
      "text/plain": [
       "<AxesSubplot:xlabel='Age'>"
      ]
     },
     "execution_count": 9,
     "metadata": {},
     "output_type": "execute_result"
    },
    {
     "data": {
      "image/png": "[encoded data removed]",
      "text/plain": [
       "<Figure size 432x288 with 1 Axes>"
      ]
     },
     "metadata": {
      "needs_background": "light"
     },
     "output_type": "display_data"
    }
   ],
   "source": [
    "sns.distplot(df.Age, kde = False, bins = 19)"
   ]
  },
  {
   "cell_type": "markdown",
   "metadata": {},
   "source": [
    "> Mot of the data is from 24 to 31 years of age. "
   ]
  },
  {
   "cell_type": "code",
   "execution_count": 10,
   "metadata": {
    "execution": {
     "iopub.execute_input": "2023-10-04T05:55:30.244110Z",
     "iopub.status.busy": "2023-10-04T05:55:30.243716Z",
     "iopub.status.idle": "2023-10-04T05:55:30.251263Z",
     "shell.execute_reply": "2023-10-04T05:55:30.250079Z",
     "shell.execute_reply.started": "2023-10-04T05:55:30.244080Z"
    }
   },
   "outputs": [],
   "source": [
    "num = x.select_dtypes(exclude = 'object')\n",
    "char = x.select_dtypes(include = 'object')"
   ]
  },
  {
   "cell_type": "code",
   "execution_count": 11,
   "metadata": {
    "execution": {
     "iopub.execute_input": "2023-10-04T05:55:30.445606Z",
     "iopub.status.busy": "2023-10-04T05:55:30.444765Z",
     "iopub.status.idle": "2023-10-04T05:55:30.451269Z",
     "shell.execute_reply": "2023-10-04T05:55:30.450223Z",
     "shell.execute_reply.started": "2023-10-04T05:55:30.445568Z"
    }
   },
   "outputs": [],
   "source": [
    "assert num.shape[1] + char.shape[1] == x.shape[1], \"Shape not same\""
   ]
  },
  {
   "cell_type": "code",
   "execution_count": 12,
   "metadata": {
    "execution": {
     "iopub.execute_input": "2023-10-04T05:55:42.504917Z",
     "iopub.status.busy": "2023-10-04T05:55:42.504524Z",
     "iopub.status.idle": "2023-10-04T05:55:42.528272Z",
     "shell.execute_reply": "2023-10-04T05:55:42.527222Z",
     "shell.execute_reply.started": "2023-10-04T05:55:42.504878Z"
    }
   },
   "outputs": [
    {
     "data": {
      "text/html": [
       "<div>\n",
       "<style scoped>\n",
       "    .dataframe tbody tr th:only-of-type {\n",
       "        vertical-align: middle;\n",
       "    }\n",
       "\n",
       "    .dataframe tbody tr th {\n",
       "        vertical-align: top;\n",
       "    }\n",
       "\n",
       "    .dataframe thead th {\n",
       "        text-align: right;\n",
       "    }\n",
       "</style>\n",
       "<table border=\"1\" class=\"dataframe\">\n",
       "  <thead>\n",
       "    <tr style=\"text-align: right;\">\n",
       "      <th></th>\n",
       "      <th>JoiningYear</th>\n",
       "      <th>PaymentTier</th>\n",
       "      <th>Age</th>\n",
       "      <th>ExperienceInCurrentDomain</th>\n",
       "    </tr>\n",
       "  </thead>\n",
       "  <tbody>\n",
       "    <tr>\n",
       "      <th>count</th>\n",
       "      <td>4653.000000</td>\n",
       "      <td>4653.000000</td>\n",
       "      <td>4653.000000</td>\n",
       "      <td>4653.000000</td>\n",
       "    </tr>\n",
       "    <tr>\n",
       "      <th>mean</th>\n",
       "      <td>2015.062970</td>\n",
       "      <td>2.698259</td>\n",
       "      <td>29.393295</td>\n",
       "      <td>2.905652</td>\n",
       "    </tr>\n",
       "    <tr>\n",
       "      <th>std</th>\n",
       "      <td>1.863377</td>\n",
       "      <td>0.561435</td>\n",
       "      <td>4.826087</td>\n",
       "      <td>1.558240</td>\n",
       "    </tr>\n",
       "    <tr>\n",
       "      <th>min</th>\n",
       "      <td>2012.000000</td>\n",
       "      <td>1.000000</td>\n",
       "      <td>22.000000</td>\n",
       "      <td>0.000000</td>\n",
       "    </tr>\n",
       "    <tr>\n",
       "      <th>25%</th>\n",
       "      <td>2013.000000</td>\n",
       "      <td>3.000000</td>\n",
       "      <td>26.000000</td>\n",
       "      <td>2.000000</td>\n",
       "    </tr>\n",
       "    <tr>\n",
       "      <th>50%</th>\n",
       "      <td>2015.000000</td>\n",
       "      <td>3.000000</td>\n",
       "      <td>28.000000</td>\n",
       "      <td>3.000000</td>\n",
       "    </tr>\n",
       "    <tr>\n",
       "      <th>75%</th>\n",
       "      <td>2017.000000</td>\n",
       "      <td>3.000000</td>\n",
       "      <td>32.000000</td>\n",
       "      <td>4.000000</td>\n",
       "    </tr>\n",
       "    <tr>\n",
       "      <th>max</th>\n",
       "      <td>2018.000000</td>\n",
       "      <td>3.000000</td>\n",
       "      <td>41.000000</td>\n",
       "      <td>7.000000</td>\n",
       "    </tr>\n",
       "  </tbody>\n",
       "</table>\n",
       "</div>"
      ],
      "text/plain": [
       "       JoiningYear  PaymentTier          Age  ExperienceInCurrentDomain\n",
       "count  4653.000000  4653.000000  4653.000000                4653.000000\n",
       "mean   2015.062970     2.698259    29.393295                   2.905652\n",
       "std       1.863377     0.561435     4.826087                   1.558240\n",
       "min    2012.000000     1.000000    22.000000                   0.000000\n",
       "25%    2013.000000     3.000000    26.000000                   2.000000\n",
       "50%    2015.000000     3.000000    28.000000                   3.000000\n",
       "75%    2017.000000     3.000000    32.000000                   4.000000\n",
       "max    2018.000000     3.000000    41.000000                   7.000000"
      ]
     },
     "execution_count": 12,
     "metadata": {},
     "output_type": "execute_result"
    }
   ],
   "source": [
    "num.describe()"
   ]
  },
  {
   "cell_type": "code",
   "execution_count": 13,
   "metadata": {
    "execution": {
     "iopub.execute_input": "2023-10-04T07:00:41.977188Z",
     "iopub.status.busy": "2023-10-04T07:00:41.976816Z",
     "iopub.status.idle": "2023-10-04T07:00:42.320389Z",
     "shell.execute_reply": "2023-10-04T07:00:42.319105Z",
     "shell.execute_reply.started": "2023-10-04T07:00:41.977160Z"
    }
   },
   "outputs": [
    {
     "data": {
      "text/plain": [
       "<AxesSubplot:>"
      ]
     },
     "execution_count": 13,
     "metadata": {},
     "output_type": "execute_result"
    },
    {
     "data": {
      "image/png": "[encoded data removed]",
      "text/plain": [
       "<Figure size 432x288 with 2 Axes>"
      ]
     },
     "metadata": {
      "needs_background": "light"
     },
     "output_type": "display_data"
    }
   ],
   "source": [
    "sns.heatmap(num.corr(), annot = True)"
   ]
  },
  {
   "cell_type": "code",
   "execution_count": 86,
   "metadata": {},
   "outputs": [
    {
     "name": "stdout",
     "output_type": "stream",
     "text": [
      "[array(['Bachelors', 'Masters', 'PHD'], dtype=object), array(['Bangalore', 'New Delhi', 'Pune'], dtype=object), array(['Female', 'Male'], dtype=object), array(['No', 'Yes'], dtype=object)]\n"
     ]
    },
    {
     "data": {
      "text/html": [
       "<div>\n",
       "<style scoped>\n",
       "    .dataframe tbody tr th:only-of-type {\n",
       "        vertical-align: middle;\n",
       "    }\n",
       "\n",
       "    .dataframe tbody tr th {\n",
       "        vertical-align: top;\n",
       "    }\n",
       "\n",
       "    .dataframe thead th {\n",
       "        text-align: right;\n",
       "    }\n",
       "</style>\n",
       "<table border=\"1\" class=\"dataframe\">\n",
       "  <thead>\n",
       "    <tr style=\"text-align: right;\">\n",
       "      <th></th>\n",
       "      <th>Column_1</th>\n",
       "      <th>Column_2</th>\n",
       "      <th>Column_3</th>\n",
       "      <th>Column_4</th>\n",
       "      <th>Column_5</th>\n",
       "      <th>Column_6</th>\n",
       "      <th>Column_7</th>\n",
       "      <th>Column_8</th>\n",
       "      <th>Column_9</th>\n",
       "      <th>Column_10</th>\n",
       "    </tr>\n",
       "  </thead>\n",
       "  <tbody>\n",
       "    <tr>\n",
       "      <th>0</th>\n",
       "      <td>1.0</td>\n",
       "      <td>0.0</td>\n",
       "      <td>0.0</td>\n",
       "      <td>1.0</td>\n",
       "      <td>0.0</td>\n",
       "      <td>0.0</td>\n",
       "      <td>0.0</td>\n",
       "      <td>1.0</td>\n",
       "      <td>1.0</td>\n",
       "      <td>0.0</td>\n",
       "    </tr>\n",
       "    <tr>\n",
       "      <th>1</th>\n",
       "      <td>1.0</td>\n",
       "      <td>0.0</td>\n",
       "      <td>0.0</td>\n",
       "      <td>0.0</td>\n",
       "      <td>0.0</td>\n",
       "      <td>1.0</td>\n",
       "      <td>1.0</td>\n",
       "      <td>0.0</td>\n",
       "      <td>1.0</td>\n",
       "      <td>0.0</td>\n",
       "    </tr>\n",
       "    <tr>\n",
       "      <th>2</th>\n",
       "      <td>1.0</td>\n",
       "      <td>0.0</td>\n",
       "      <td>0.0</td>\n",
       "      <td>0.0</td>\n",
       "      <td>1.0</td>\n",
       "      <td>0.0</td>\n",
       "      <td>1.0</td>\n",
       "      <td>0.0</td>\n",
       "      <td>1.0</td>\n",
       "      <td>0.0</td>\n",
       "    </tr>\n",
       "    <tr>\n",
       "      <th>3</th>\n",
       "      <td>0.0</td>\n",
       "      <td>1.0</td>\n",
       "      <td>0.0</td>\n",
       "      <td>1.0</td>\n",
       "      <td>0.0</td>\n",
       "      <td>0.0</td>\n",
       "      <td>0.0</td>\n",
       "      <td>1.0</td>\n",
       "      <td>1.0</td>\n",
       "      <td>0.0</td>\n",
       "    </tr>\n",
       "    <tr>\n",
       "      <th>4</th>\n",
       "      <td>0.0</td>\n",
       "      <td>1.0</td>\n",
       "      <td>0.0</td>\n",
       "      <td>0.0</td>\n",
       "      <td>0.0</td>\n",
       "      <td>1.0</td>\n",
       "      <td>0.0</td>\n",
       "      <td>1.0</td>\n",
       "      <td>0.0</td>\n",
       "      <td>1.0</td>\n",
       "    </tr>\n",
       "    <tr>\n",
       "      <th>...</th>\n",
       "      <td>...</td>\n",
       "      <td>...</td>\n",
       "      <td>...</td>\n",
       "      <td>...</td>\n",
       "      <td>...</td>\n",
       "      <td>...</td>\n",
       "      <td>...</td>\n",
       "      <td>...</td>\n",
       "      <td>...</td>\n",
       "      <td>...</td>\n",
       "    </tr>\n",
       "    <tr>\n",
       "      <th>4648</th>\n",
       "      <td>1.0</td>\n",
       "      <td>0.0</td>\n",
       "      <td>0.0</td>\n",
       "      <td>1.0</td>\n",
       "      <td>0.0</td>\n",
       "      <td>0.0</td>\n",
       "      <td>1.0</td>\n",
       "      <td>0.0</td>\n",
       "      <td>1.0</td>\n",
       "      <td>0.0</td>\n",
       "    </tr>\n",
       "    <tr>\n",
       "      <th>4649</th>\n",
       "      <td>0.0</td>\n",
       "      <td>1.0</td>\n",
       "      <td>0.0</td>\n",
       "      <td>0.0</td>\n",
       "      <td>0.0</td>\n",
       "      <td>1.0</td>\n",
       "      <td>0.0</td>\n",
       "      <td>1.0</td>\n",
       "      <td>1.0</td>\n",
       "      <td>0.0</td>\n",
       "    </tr>\n",
       "    <tr>\n",
       "      <th>4650</th>\n",
       "      <td>0.0</td>\n",
       "      <td>1.0</td>\n",
       "      <td>0.0</td>\n",
       "      <td>0.0</td>\n",
       "      <td>1.0</td>\n",
       "      <td>0.0</td>\n",
       "      <td>0.0</td>\n",
       "      <td>1.0</td>\n",
       "      <td>1.0</td>\n",
       "      <td>0.0</td>\n",
       "    </tr>\n",
       "    <tr>\n",
       "      <th>4651</th>\n",
       "      <td>1.0</td>\n",
       "      <td>0.0</td>\n",
       "      <td>0.0</td>\n",
       "      <td>1.0</td>\n",
       "      <td>0.0</td>\n",
       "      <td>0.0</td>\n",
       "      <td>0.0</td>\n",
       "      <td>1.0</td>\n",
       "      <td>0.0</td>\n",
       "      <td>1.0</td>\n",
       "    </tr>\n",
       "    <tr>\n",
       "      <th>4652</th>\n",
       "      <td>1.0</td>\n",
       "      <td>0.0</td>\n",
       "      <td>0.0</td>\n",
       "      <td>1.0</td>\n",
       "      <td>0.0</td>\n",
       "      <td>0.0</td>\n",
       "      <td>0.0</td>\n",
       "      <td>1.0</td>\n",
       "      <td>0.0</td>\n",
       "      <td>1.0</td>\n",
       "    </tr>\n",
       "  </tbody>\n",
       "</table>\n",
       "<p>4653 rows × 10 columns</p>\n",
       "</div>"
      ],
      "text/plain": [
       "      Column_1  Column_2  Column_3  Column_4  Column_5  Column_6  Column_7  \\\n",
       "0          1.0       0.0       0.0       1.0       0.0       0.0       0.0   \n",
       "1          1.0       0.0       0.0       0.0       0.0       1.0       1.0   \n",
       "2          1.0       0.0       0.0       0.0       1.0       0.0       1.0   \n",
       "3          0.0       1.0       0.0       1.0       0.0       0.0       0.0   \n",
       "4          0.0       1.0       0.0       0.0       0.0       1.0       0.0   \n",
       "...        ...       ...       ...       ...       ...       ...       ...   \n",
       "4648       1.0       0.0       0.0       1.0       0.0       0.0       1.0   \n",
       "4649       0.0       1.0       0.0       0.0       0.0       1.0       0.0   \n",
       "4650       0.0       1.0       0.0       0.0       1.0       0.0       0.0   \n",
       "4651       1.0       0.0       0.0       1.0       0.0       0.0       0.0   \n",
       "4652       1.0       0.0       0.0       1.0       0.0       0.0       0.0   \n",
       "\n",
       "      Column_8  Column_9  Column_10  \n",
       "0          1.0       1.0        0.0  \n",
       "1          0.0       1.0        0.0  \n",
       "2          0.0       1.0        0.0  \n",
       "3          1.0       1.0        0.0  \n",
       "4          1.0       0.0        1.0  \n",
       "...        ...       ...        ...  \n",
       "4648       0.0       1.0        0.0  \n",
       "4649       1.0       1.0        0.0  \n",
       "4650       1.0       1.0        0.0  \n",
       "4651       1.0       0.0        1.0  \n",
       "4652       1.0       0.0        1.0  \n",
       "\n",
       "[4653 rows x 10 columns]"
      ]
     },
     "execution_count": 86,
     "metadata": {},
     "output_type": "execute_result"
    }
   ],
   "source": [
    "# Categorical Features\n",
    "\n",
    "ohe = OneHotEncoder()\n",
    "ohe_transformed = ohe.fit_transform(char).toarray()\n",
    "print(ohe.categories_)\n",
    "# Creating new DataFrame using ohe\n",
    "ohe_fe = pd.DataFrame(ohe_transformed)\n",
    "# Converting column names form int to str so it won't give problem while modelling\n",
    "ohe_fe.columns = [f'Column_{i+1}' for i in range(ohe_fe.shape[1])]\n",
    "ohe_fe"
   ]
  },
  {
   "cell_type": "code",
   "execution_count": 76,
   "metadata": {},
   "outputs": [
    {
     "data": {
      "text/html": [
       "<div>\n",
       "<style scoped>\n",
       "    .dataframe tbody tr th:only-of-type {\n",
       "        vertical-align: middle;\n",
       "    }\n",
       "\n",
       "    .dataframe tbody tr th {\n",
       "        vertical-align: top;\n",
       "    }\n",
       "\n",
       "    .dataframe thead th {\n",
       "        text-align: right;\n",
       "    }\n",
       "</style>\n",
       "<table border=\"1\" class=\"dataframe\">\n",
       "  <thead>\n",
       "    <tr style=\"text-align: right;\">\n",
       "      <th></th>\n",
       "      <th>JoiningYear</th>\n",
       "      <th>PaymentTier</th>\n",
       "      <th>Age</th>\n",
       "      <th>ExperienceInCurrentDomain</th>\n",
       "      <th>Column_1</th>\n",
       "      <th>Column_2</th>\n",
       "      <th>Column_3</th>\n",
       "      <th>Column_4</th>\n",
       "      <th>Column_5</th>\n",
       "      <th>Column_6</th>\n",
       "      <th>Column_7</th>\n",
       "      <th>Column_8</th>\n",
       "      <th>Column_9</th>\n",
       "      <th>Column_10</th>\n",
       "    </tr>\n",
       "  </thead>\n",
       "  <tbody>\n",
       "    <tr>\n",
       "      <th>0</th>\n",
       "      <td>2017</td>\n",
       "      <td>3</td>\n",
       "      <td>34</td>\n",
       "      <td>0</td>\n",
       "      <td>1.0</td>\n",
       "      <td>0.0</td>\n",
       "      <td>0.0</td>\n",
       "      <td>1.0</td>\n",
       "      <td>0.0</td>\n",
       "      <td>0.0</td>\n",
       "      <td>0.0</td>\n",
       "      <td>1.0</td>\n",
       "      <td>1.0</td>\n",
       "      <td>0.0</td>\n",
       "    </tr>\n",
       "    <tr>\n",
       "      <th>1</th>\n",
       "      <td>2013</td>\n",
       "      <td>1</td>\n",
       "      <td>28</td>\n",
       "      <td>3</td>\n",
       "      <td>1.0</td>\n",
       "      <td>0.0</td>\n",
       "      <td>0.0</td>\n",
       "      <td>0.0</td>\n",
       "      <td>0.0</td>\n",
       "      <td>1.0</td>\n",
       "      <td>1.0</td>\n",
       "      <td>0.0</td>\n",
       "      <td>1.0</td>\n",
       "      <td>0.0</td>\n",
       "    </tr>\n",
       "    <tr>\n",
       "      <th>2</th>\n",
       "      <td>2014</td>\n",
       "      <td>3</td>\n",
       "      <td>38</td>\n",
       "      <td>2</td>\n",
       "      <td>1.0</td>\n",
       "      <td>0.0</td>\n",
       "      <td>0.0</td>\n",
       "      <td>0.0</td>\n",
       "      <td>1.0</td>\n",
       "      <td>0.0</td>\n",
       "      <td>1.0</td>\n",
       "      <td>0.0</td>\n",
       "      <td>1.0</td>\n",
       "      <td>0.0</td>\n",
       "    </tr>\n",
       "    <tr>\n",
       "      <th>3</th>\n",
       "      <td>2016</td>\n",
       "      <td>3</td>\n",
       "      <td>27</td>\n",
       "      <td>5</td>\n",
       "      <td>0.0</td>\n",
       "      <td>1.0</td>\n",
       "      <td>0.0</td>\n",
       "      <td>1.0</td>\n",
       "      <td>0.0</td>\n",
       "      <td>0.0</td>\n",
       "      <td>0.0</td>\n",
       "      <td>1.0</td>\n",
       "      <td>1.0</td>\n",
       "      <td>0.0</td>\n",
       "    </tr>\n",
       "    <tr>\n",
       "      <th>4</th>\n",
       "      <td>2017</td>\n",
       "      <td>3</td>\n",
       "      <td>24</td>\n",
       "      <td>2</td>\n",
       "      <td>0.0</td>\n",
       "      <td>1.0</td>\n",
       "      <td>0.0</td>\n",
       "      <td>0.0</td>\n",
       "      <td>0.0</td>\n",
       "      <td>1.0</td>\n",
       "      <td>0.0</td>\n",
       "      <td>1.0</td>\n",
       "      <td>0.0</td>\n",
       "      <td>1.0</td>\n",
       "    </tr>\n",
       "    <tr>\n",
       "      <th>...</th>\n",
       "      <td>...</td>\n",
       "      <td>...</td>\n",
       "      <td>...</td>\n",
       "      <td>...</td>\n",
       "      <td>...</td>\n",
       "      <td>...</td>\n",
       "      <td>...</td>\n",
       "      <td>...</td>\n",
       "      <td>...</td>\n",
       "      <td>...</td>\n",
       "      <td>...</td>\n",
       "      <td>...</td>\n",
       "      <td>...</td>\n",
       "      <td>...</td>\n",
       "    </tr>\n",
       "    <tr>\n",
       "      <th>4648</th>\n",
       "      <td>2013</td>\n",
       "      <td>3</td>\n",
       "      <td>26</td>\n",
       "      <td>4</td>\n",
       "      <td>1.0</td>\n",
       "      <td>0.0</td>\n",
       "      <td>0.0</td>\n",
       "      <td>1.0</td>\n",
       "      <td>0.0</td>\n",
       "      <td>0.0</td>\n",
       "      <td>1.0</td>\n",
       "      <td>0.0</td>\n",
       "      <td>1.0</td>\n",
       "      <td>0.0</td>\n",
       "    </tr>\n",
       "    <tr>\n",
       "      <th>4649</th>\n",
       "      <td>2013</td>\n",
       "      <td>2</td>\n",
       "      <td>37</td>\n",
       "      <td>2</td>\n",
       "      <td>0.0</td>\n",
       "      <td>1.0</td>\n",
       "      <td>0.0</td>\n",
       "      <td>0.0</td>\n",
       "      <td>0.0</td>\n",
       "      <td>1.0</td>\n",
       "      <td>0.0</td>\n",
       "      <td>1.0</td>\n",
       "      <td>1.0</td>\n",
       "      <td>0.0</td>\n",
       "    </tr>\n",
       "    <tr>\n",
       "      <th>4650</th>\n",
       "      <td>2018</td>\n",
       "      <td>3</td>\n",
       "      <td>27</td>\n",
       "      <td>5</td>\n",
       "      <td>0.0</td>\n",
       "      <td>1.0</td>\n",
       "      <td>0.0</td>\n",
       "      <td>0.0</td>\n",
       "      <td>1.0</td>\n",
       "      <td>0.0</td>\n",
       "      <td>0.0</td>\n",
       "      <td>1.0</td>\n",
       "      <td>1.0</td>\n",
       "      <td>0.0</td>\n",
       "    </tr>\n",
       "    <tr>\n",
       "      <th>4651</th>\n",
       "      <td>2012</td>\n",
       "      <td>3</td>\n",
       "      <td>30</td>\n",
       "      <td>2</td>\n",
       "      <td>1.0</td>\n",
       "      <td>0.0</td>\n",
       "      <td>0.0</td>\n",
       "      <td>1.0</td>\n",
       "      <td>0.0</td>\n",
       "      <td>0.0</td>\n",
       "      <td>0.0</td>\n",
       "      <td>1.0</td>\n",
       "      <td>0.0</td>\n",
       "      <td>1.0</td>\n",
       "    </tr>\n",
       "    <tr>\n",
       "      <th>4652</th>\n",
       "      <td>2015</td>\n",
       "      <td>3</td>\n",
       "      <td>33</td>\n",
       "      <td>4</td>\n",
       "      <td>1.0</td>\n",
       "      <td>0.0</td>\n",
       "      <td>0.0</td>\n",
       "      <td>1.0</td>\n",
       "      <td>0.0</td>\n",
       "      <td>0.0</td>\n",
       "      <td>0.0</td>\n",
       "      <td>1.0</td>\n",
       "      <td>0.0</td>\n",
       "      <td>1.0</td>\n",
       "    </tr>\n",
       "  </tbody>\n",
       "</table>\n",
       "<p>4653 rows × 14 columns</p>\n",
       "</div>"
      ],
      "text/plain": [
       "      JoiningYear  PaymentTier  Age  ExperienceInCurrentDomain  Column_1  \\\n",
       "0            2017            3   34                          0       1.0   \n",
       "1            2013            1   28                          3       1.0   \n",
       "2            2014            3   38                          2       1.0   \n",
       "3            2016            3   27                          5       0.0   \n",
       "4            2017            3   24                          2       0.0   \n",
       "...           ...          ...  ...                        ...       ...   \n",
       "4648         2013            3   26                          4       1.0   \n",
       "4649         2013            2   37                          2       0.0   \n",
       "4650         2018            3   27                          5       0.0   \n",
       "4651         2012            3   30                          2       1.0   \n",
       "4652         2015            3   33                          4       1.0   \n",
       "\n",
       "      Column_2  Column_3  Column_4  Column_5  Column_6  Column_7  Column_8  \\\n",
       "0          0.0       0.0       1.0       0.0       0.0       0.0       1.0   \n",
       "1          0.0       0.0       0.0       0.0       1.0       1.0       0.0   \n",
       "2          0.0       0.0       0.0       1.0       0.0       1.0       0.0   \n",
       "3          1.0       0.0       1.0       0.0       0.0       0.0       1.0   \n",
       "4          1.0       0.0       0.0       0.0       1.0       0.0       1.0   \n",
       "...        ...       ...       ...       ...       ...       ...       ...   \n",
       "4648       0.0       0.0       1.0       0.0       0.0       1.0       0.0   \n",
       "4649       1.0       0.0       0.0       0.0       1.0       0.0       1.0   \n",
       "4650       1.0       0.0       0.0       1.0       0.0       0.0       1.0   \n",
       "4651       0.0       0.0       1.0       0.0       0.0       0.0       1.0   \n",
       "4652       0.0       0.0       1.0       0.0       0.0       0.0       1.0   \n",
       "\n",
       "      Column_9  Column_10  \n",
       "0          1.0        0.0  \n",
       "1          1.0        0.0  \n",
       "2          1.0        0.0  \n",
       "3          1.0        0.0  \n",
       "4          0.0        1.0  \n",
       "...        ...        ...  \n",
       "4648       1.0        0.0  \n",
       "4649       1.0        0.0  \n",
       "4650       1.0        0.0  \n",
       "4651       0.0        1.0  \n",
       "4652       0.0        1.0  \n",
       "\n",
       "[4653 rows x 14 columns]"
      ]
     },
     "execution_count": 76,
     "metadata": {},
     "output_type": "execute_result"
    }
   ],
   "source": [
    "main_df = pd.concat([num, ohe_fe], axis = 1)\n",
    "main_df"
   ]
  },
  {
   "cell_type": "code",
   "execution_count": 71,
   "metadata": {
    "execution": {
     "iopub.execute_input": "2023-10-04T06:04:05.769349Z",
     "iopub.status.busy": "2023-10-04T06:04:05.769002Z",
     "iopub.status.idle": "2023-10-04T06:04:05.777468Z",
     "shell.execute_reply": "2023-10-04T06:04:05.776333Z",
     "shell.execute_reply.started": "2023-10-04T06:04:05.769321Z"
    }
   },
   "outputs": [
    {
     "data": {
      "text/plain": [
       "LeaveOrNot\n",
       "0    3053\n",
       "1    1600\n",
       "Name: count, dtype: int64"
      ]
     },
     "execution_count": 71,
     "metadata": {},
     "output_type": "execute_result"
    }
   ],
   "source": [
    "y.value_counts()"
   ]
  },
  {
   "cell_type": "code",
   "execution_count": 78,
   "metadata": {
    "execution": {
     "iopub.execute_input": "2023-10-04T06:04:39.142294Z",
     "iopub.status.busy": "2023-10-04T06:04:39.141925Z",
     "iopub.status.idle": "2023-10-04T06:04:39.150737Z",
     "shell.execute_reply": "2023-10-04T06:04:39.149700Z",
     "shell.execute_reply.started": "2023-10-04T06:04:39.142264Z"
    }
   },
   "outputs": [],
   "source": [
    "xtrain, xtest, ytrain, ytest = train_test_split(main_df, y, test_size = 0.2, random_state = 42 )"
   ]
  },
  {
   "cell_type": "code",
   "execution_count": 79,
   "metadata": {
    "execution": {
     "iopub.execute_input": "2023-10-04T06:05:02.965759Z",
     "iopub.status.busy": "2023-10-04T06:05:02.964964Z",
     "iopub.status.idle": "2023-10-04T06:05:02.974494Z",
     "shell.execute_reply": "2023-10-04T06:05:02.973308Z",
     "shell.execute_reply.started": "2023-10-04T06:05:02.965705Z"
    }
   },
   "outputs": [
    {
     "name": "stdout",
     "output_type": "stream",
     "text": [
      "0.34363245566899514\n",
      "0.3447905477980666\n"
     ]
    }
   ],
   "source": [
    "print(ytrain.mean())\n",
    "print(ytest.mean())"
   ]
  },
  {
   "cell_type": "code",
   "execution_count": 80,
   "metadata": {
    "execution": {
     "iopub.execute_input": "2023-10-04T06:17:54.199959Z",
     "iopub.status.busy": "2023-10-04T06:17:54.198694Z",
     "iopub.status.idle": "2023-10-04T06:17:54.570039Z",
     "shell.execute_reply": "2023-10-04T06:17:54.569100Z",
     "shell.execute_reply.started": "2023-10-04T06:17:54.199907Z"
    }
   },
   "outputs": [
    {
     "name": "stdout",
     "output_type": "stream",
     "text": [
      "Accuracy Score:  0.7432867883995704\n",
      "Classification Report: \n",
      "               precision    recall  f1-score   support\n",
      "\n",
      "           0       0.76      0.89      0.82       610\n",
      "           1       0.69      0.46      0.55       321\n",
      "\n",
      "    accuracy                           0.74       931\n",
      "   macro avg       0.73      0.68      0.69       931\n",
      "weighted avg       0.74      0.74      0.73       931\n",
      "\n"
     ]
    },
    {
     "data": {
      "text/plain": [
       "<AxesSubplot:>"
      ]
     },
     "execution_count": 80,
     "metadata": {},
     "output_type": "execute_result"
    },
    {
     "data": {
      "image/png": "[encoded data removed]",
      "text/plain": [
       "<Figure size 432x288 with 2 Axes>"
      ]
     },
     "metadata": {
      "needs_background": "light"
     },
     "output_type": "display_data"
    }
   ],
   "source": [
    "lr = LogisticRegression()\n",
    "lr.fit(xtrain, ytrain)\n",
    "y_pred_lr = lr.predict(xtest)\n",
    "print('Accuracy Score: ', accuracy_score(ytest, y_pred_lr))\n",
    "print('Classification Report: \\n', classification_report(ytest, y_pred_lr))\n",
    "sns.heatmap(confusion_matrix(ytest, y_pred_lr), annot = True, fmt = '0.4g')"
   ]
  },
  {
   "cell_type": "code",
   "execution_count": 81,
   "metadata": {
    "execution": {
     "iopub.execute_input": "2023-10-04T06:17:58.781273Z",
     "iopub.status.busy": "2023-10-04T06:17:58.780929Z",
     "iopub.status.idle": "2023-10-04T06:17:59.724547Z",
     "shell.execute_reply": "2023-10-04T06:17:59.723457Z",
     "shell.execute_reply.started": "2023-10-04T06:17:58.781245Z"
    }
   },
   "outputs": [
    {
     "name": "stdout",
     "output_type": "stream",
     "text": [
      "Accuracy Score:  0.6552094522019334\n",
      "Classification Report: \n",
      "               precision    recall  f1-score   support\n",
      "\n",
      "           0       0.66      1.00      0.79       610\n",
      "           1       0.00      0.00      0.00       321\n",
      "\n",
      "    accuracy                           0.66       931\n",
      "   macro avg       0.33      0.50      0.40       931\n",
      "weighted avg       0.43      0.66      0.52       931\n",
      "\n"
     ]
    },
    {
     "data": {
      "text/plain": [
       "<AxesSubplot:>"
      ]
     },
     "execution_count": 81,
     "metadata": {},
     "output_type": "execute_result"
    },
    {
     "data": {
      "image/png": "[encoded data removed]",
      "text/plain": [
       "<Figure size 432x288 with 2 Axes>"
      ]
     },
     "metadata": {
      "needs_background": "light"
     },
     "output_type": "display_data"
    }
   ],
   "source": [
    "svc = SVC()\n",
    "svc.fit(xtrain, ytrain)\n",
    "y_pred_svc = svc.predict(xtest)\n",
    "print('Accuracy Score: ', accuracy_score(ytest, y_pred_svc))\n",
    "print('Classification Report: \\n', classification_report(ytest, y_pred_svc))\n",
    "sns.heatmap(confusion_matrix(ytest, y_pred_svc), annot = True, fmt = '0.4g')"
   ]
  },
  {
   "cell_type": "code",
   "execution_count": 82,
   "metadata": {
    "execution": {
     "iopub.execute_input": "2023-10-04T06:18:03.888710Z",
     "iopub.status.busy": "2023-10-04T06:18:03.888314Z",
     "iopub.status.idle": "2023-10-04T06:18:04.170566Z",
     "shell.execute_reply": "2023-10-04T06:18:04.169499Z",
     "shell.execute_reply.started": "2023-10-04T06:18:03.888677Z"
    }
   },
   "outputs": [
    {
     "name": "stdout",
     "output_type": "stream",
     "text": [
      "Accuracy Score:  0.841031149301826\n",
      "Classification Report: \n",
      "               precision    recall  f1-score   support\n",
      "\n",
      "           0       0.86      0.90      0.88       610\n",
      "           1       0.80      0.72      0.76       321\n",
      "\n",
      "    accuracy                           0.84       931\n",
      "   macro avg       0.83      0.81      0.82       931\n",
      "weighted avg       0.84      0.84      0.84       931\n",
      "\n"
     ]
    },
    {
     "data": {
      "text/plain": [
       "<AxesSubplot:>"
      ]
     },
     "execution_count": 82,
     "metadata": {},
     "output_type": "execute_result"
    },
    {
     "data": {
      "image/png": "[encoded data removed]",
      "text/plain": [
       "<Figure size 432x288 with 2 Axes>"
      ]
     },
     "metadata": {
      "needs_background": "light"
     },
     "output_type": "display_data"
    }
   ],
   "source": [
    "dtree = DecisionTreeClassifier()\n",
    "dtree.fit(xtrain, ytrain)\n",
    "y_pred_dtree = dtree.predict(xtest)\n",
    "print('Accuracy Score: ', accuracy_score(ytest, y_pred_dtree))\n",
    "print('Classification Report: \\n', classification_report(ytest, y_pred_dtree))\n",
    "sns.heatmap(confusion_matrix(ytest, y_pred_dtree), annot = True, fmt = '0.4g')"
   ]
  },
  {
   "cell_type": "code",
   "execution_count": 83,
   "metadata": {
    "execution": {
     "iopub.execute_input": "2023-10-04T06:18:09.606773Z",
     "iopub.status.busy": "2023-10-04T06:18:09.606387Z",
     "iopub.status.idle": "2023-10-04T06:18:10.289313Z",
     "shell.execute_reply": "2023-10-04T06:18:10.288401Z",
     "shell.execute_reply.started": "2023-10-04T06:18:09.606741Z"
    }
   },
   "outputs": [
    {
     "name": "stdout",
     "output_type": "stream",
     "text": [
      "Accuracy Score:  0.849624060150376\n",
      "Classification Report: \n",
      "               precision    recall  f1-score   support\n",
      "\n",
      "           0       0.87      0.91      0.89       610\n",
      "           1       0.81      0.73      0.77       321\n",
      "\n",
      "    accuracy                           0.85       931\n",
      "   macro avg       0.84      0.82      0.83       931\n",
      "weighted avg       0.85      0.85      0.85       931\n",
      "\n"
     ]
    },
    {
     "data": {
      "text/plain": [
       "<AxesSubplot:>"
      ]
     },
     "execution_count": 83,
     "metadata": {},
     "output_type": "execute_result"
    },
    {
     "data": {
      "image/png": "[encoded data removed]",
      "text/plain": [
       "<Figure size 432x288 with 2 Axes>"
      ]
     },
     "metadata": {
      "needs_background": "light"
     },
     "output_type": "display_data"
    }
   ],
   "source": [
    "rf = RandomForestClassifier()\n",
    "rf.fit(xtrain, ytrain)\n",
    "y_pred_rf = rf.predict(xtest)\n",
    "print('Accuracy Score: ', accuracy_score(ytest, y_pred_rf))\n",
    "print('Classification Report: \\n', classification_report(ytest, y_pred_rf))\n",
    "sns.heatmap(confusion_matrix(ytest, y_pred_rf), annot = True, fmt = '0.4g')"
   ]
  },
  {
   "cell_type": "code",
   "execution_count": 84,
   "metadata": {
    "execution": {
     "iopub.execute_input": "2023-10-04T07:12:16.464065Z",
     "iopub.status.busy": "2023-10-04T07:12:16.463581Z",
     "iopub.status.idle": "2023-10-04T07:12:16.941953Z",
     "shell.execute_reply": "2023-10-04T07:12:16.940819Z",
     "shell.execute_reply.started": "2023-10-04T07:12:16.464021Z"
    }
   },
   "outputs": [
    {
     "name": "stdout",
     "output_type": "stream",
     "text": [
      "Accuracy Score:  0.8625134264232008\n",
      "Classification Report: \n",
      "               precision    recall  f1-score   support\n",
      "\n",
      "           0       0.86      0.94      0.90       610\n",
      "           1       0.86      0.72      0.78       321\n",
      "\n",
      "    accuracy                           0.86       931\n",
      "   macro avg       0.86      0.83      0.84       931\n",
      "weighted avg       0.86      0.86      0.86       931\n",
      "\n"
     ]
    },
    {
     "data": {
      "text/plain": [
       "<AxesSubplot:>"
      ]
     },
     "execution_count": 84,
     "metadata": {},
     "output_type": "execute_result"
    },
    {
     "data": {
      "image/png": "[encoded data removed]",
      "text/plain": [
       "<Figure size 432x288 with 2 Axes>"
      ]
     },
     "metadata": {
      "needs_background": "light"
     },
     "output_type": "display_data"
    }
   ],
   "source": [
    "xgb = XGBClassifier()\n",
    "xgb.fit(xtrain, ytrain)\n",
    "y_pred_xgb = xgb.predict(xtest)\n",
    "print('Accuracy Score: ', accuracy_score(ytest, y_pred_xgb))\n",
    "print('Classification Report: \\n', classification_report(ytest, y_pred_xgb))\n",
    "sns.heatmap(confusion_matrix(ytest, y_pred_xgb), annot = True, fmt = '0.4g')"
   ]
  },
  {
   "cell_type": "code",
   "execution_count": 24,
   "metadata": {
    "execution": {
     "iopub.execute_input": "2023-10-04T06:53:23.141134Z",
     "iopub.status.busy": "2023-10-04T06:53:23.140728Z",
     "iopub.status.idle": "2023-10-04T06:53:23.153714Z",
     "shell.execute_reply": "2023-10-04T06:53:23.152682Z",
     "shell.execute_reply.started": "2023-10-04T06:53:23.141102Z"
    }
   },
   "outputs": [
    {
     "name": "stdout",
     "output_type": "stream",
     "text": [
      "roc_auc_score for XG Boost:  0.8279275828609366\n"
     ]
    }
   ],
   "source": [
    "false_positive_rate1, true_positive_rate1, threshold1 = roc_curve(ytest, y_pred_xgb)\n",
    "print('roc_auc_score for XG Boost: ', roc_auc_score(ytest, y_pred_xgb))\n"
   ]
  },
  {
   "cell_type": "code",
   "execution_count": 25,
   "metadata": {
    "execution": {
     "iopub.execute_input": "2023-10-04T06:54:45.989048Z",
     "iopub.status.busy": "2023-10-04T06:54:45.988652Z",
     "iopub.status.idle": "2023-10-04T06:54:46.260745Z",
     "shell.execute_reply": "2023-10-04T06:54:46.259924Z",
     "shell.execute_reply.started": "2023-10-04T06:54:45.989015Z"
    }
   },
   "outputs": [
    {
     "data": {
      "image/png": "[encoded data removed]",
      "text/plain": [
       "<Figure size 720x720 with 1 Axes>"
      ]
     },
     "metadata": {
      "needs_background": "light"
     },
     "output_type": "display_data"
    }
   ],
   "source": [
    "    plt.subplots(1, figsize=(10,10))\n",
    "    plt.title('Receiver Operating Characteristic - XG Boost')\n",
    "    plt.plot(false_positive_rate1, true_positive_rate1)\n",
    "    plt.plot([0, 1], ls=\"--\")\n",
    "    plt.plot([0, 0], [1, 0] , c=\".7\"), plt.plot([1, 1] , c=\".7\")\n",
    "    plt.ylabel('True Positive Rate')\n",
    "    plt.xlabel('False Positive Rate')\n",
    "    plt.show()"
   ]
  },
  {
   "cell_type": "code",
   "execution_count": 26,
   "metadata": {
    "execution": {
     "iopub.execute_input": "2023-10-04T07:12:21.231644Z",
     "iopub.status.busy": "2023-10-04T07:12:21.230821Z",
     "iopub.status.idle": "2023-10-04T07:12:21.237655Z",
     "shell.execute_reply": "2023-10-04T07:12:21.236953Z",
     "shell.execute_reply.started": "2023-10-04T07:12:21.231607Z"
    }
   },
   "outputs": [
    {
     "name": "stdout",
     "output_type": "stream",
     "text": [
      "Accuracy Score XG Boost:  0.8560687432867884\n"
     ]
    }
   ],
   "source": [
    "print('Accuracy Score XG Boost: ', accuracy_score(ytest, y_pred_rf))"
   ]
  },
  {
   "cell_type": "code",
   "execution_count": 87,
   "metadata": {},
   "outputs": [],
   "source": [
    "# Saving Model\n",
    "\n",
    "import pickle5 as pickle\n",
    "pickle.dump(xgb, open('emplyeechurn xgb.sav', 'wb'))\n",
    "pickle.dump(ohe, open('ohe.sav', 'wb'))\n"
   ]
  },
  {
   "cell_type": "code",
   "execution_count": 88,
   "metadata": {},
   "outputs": [
    {
     "name": "stdout",
     "output_type": "stream",
     "text": [
      "0.8625134264232008\n"
     ]
    }
   ],
   "source": [
    "# Loading Model\n",
    "loaded_model = pickle.load(open('emplyeechurn xgb.sav', 'rb'))\n",
    "loaded_ohe = pickle.load(open('ohe.sav', 'rb'))\n",
    "result = loaded_model.score(xtest, ytest)\n",
    "print(result)"
   ]
  }
 ],
 "metadata": {
  "kernelspec": {
   "display_name": "Python 3 (ipykernel)",
   "language": "python",
   "name": "python3"
  },
  "language_info": {
   "codemirror_mode": {
    "name": "ipython",
    "version": 3
   },
   "file_extension": ".py",
   "mimetype": "text/x-python",
   "name": "python",
   "nbconvert_exporter": "python",
   "pygments_lexer": "ipython3",
   "version": "3.9.7"
  }
 },
 "nbformat": 4,
 "nbformat_minor": 4
}
